{
 "cells": [
  {
   "cell_type": "code",
   "execution_count": null,
   "metadata": {},
   "outputs": [],
   "source": []
  },
  {
   "cell_type": "code",
   "execution_count": null,
   "metadata": {},
   "outputs": [],
   "source": [
    "#CHange to directory where you want output to be placed\n",
    "import os\n",
    "os.getcwd()\n",
    "os.chdir('/home/u29242/IMAGECLASS')"
   ]
  },
  {
   "cell_type": "code",
   "execution_count": null,
   "metadata": {},
   "outputs": [],
   "source": [
    "from zipfile import ZipFile"
   ]
  },
  {
   "cell_type": "code",
   "execution_count": null,
   "metadata": {},
   "outputs": [],
   "source": [
    "#Extracting zipfiles\n",
    "zip = ZipFile('training.zip')\n",
    "zip.extractall()"
   ]
  },
  {
   "cell_type": "code",
   "execution_count": null,
   "metadata": {},
   "outputs": [],
   "source": [
    "#Converting and resizing to numpy array format for train data\n",
    "import cv2\n",
    "import glob\n",
    "import numpy as np\n",
    "#Train data\n",
    "train = []\n",
    "train_labels = []\n",
    "files = glob.glob(\"/home/u29242/IMAGECLASS/training/*.jpg\") # your image path\n",
    "print(files)\n",
    "for myFile in files:\n",
    "    image = cv2.imread (myFile)\n",
    "    train.append (image)\n",
    "    train_labels.append([1., 0.])\n",
    "train = np.array(train,dtype='float32')\n",
    "train = np.reshape(train,[80,80,3])"
   ]
  },
  {
   "cell_type": "code",
   "execution_count": null,
   "metadata": {},
   "outputs": [],
   "source": [
    "np.save('train',train)\n",
    "np.save('train_labels',train_labels)"
   ]
  },
  {
   "cell_type": "code",
   "execution_count": null,
   "metadata": {},
   "outputs": [],
   "source": [
    "##Converting and resizing to numpy array format for test data\n",
    "import cv2\n",
    "import glob\n",
    "import numpy as np\n",
    "#Train data\n",
    "test = []\n",
    "test_labels = []\n",
    "files = glob.glob(\"/home/u29242/IMAGECLASS/testing/*.jpg\") # your image path\n",
    "print(files)\n",
    "for myFile in files:\n",
    "    image = cv2.imread (myFile)\n",
    "    test.append (image)\n",
    "    test_labels.append([1., 0.])\n",
    "test = np.array(test,dtype='float32')\n",
    "test = np.reshape(test,[80,80,3]) "
   ]
  },
  {
   "cell_type": "code",
   "execution_count": null,
   "metadata": {},
   "outputs": [],
   "source": [
    "np.save('test',test)\n",
    "np.save('test_labels',test_labels)"
   ]
  },
  {
   "cell_type": "code",
   "execution_count": null,
   "metadata": {},
   "outputs": [],
   "source": []
  },
  {
   "cell_type": "code",
   "execution_count": null,
   "metadata": {},
   "outputs": [],
   "source": []
  }
 ],
 "metadata": {
  "kernelspec": {
   "display_name": "Python 3 (Intel, 2019 update 2)",
   "language": "python",
   "name": "c009-intel_distribution_of_python_3_2019u2"
  },
  "language_info": {
   "codemirror_mode": {
    "name": "ipython",
    "version": 3
   },
   "file_extension": ".py",
   "mimetype": "text/x-python",
   "name": "python",
   "nbconvert_exporter": "python",
   "pygments_lexer": "ipython3",
   "version": "3.6.8"
  }
 },
 "nbformat": 4,
 "nbformat_minor": 2
}
